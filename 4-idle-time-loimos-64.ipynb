{
 "cells": [
  {
   "cell_type": "code",
   "execution_count": 1,
   "id": "dd019485",
   "metadata": {},
   "outputs": [],
   "source": [
    "import pipit\n",
    "\n",
    "# from pipit.plotting import _util\n",
    "# _util.theme = \"paper\"\n",
    "\n",
    "import pandas as pd\n",
    "pd.set_option('max_colwidth', None)\n",
    "\n",
    "dir = './loimos-proj-coc-64/'\n",
    "trace_64 = pipit.Trace.from_projections(dir)"
   ]
  },
  {
   "cell_type": "code",
   "execution_count": 2,
   "id": "a5b40ab9",
   "metadata": {},
   "outputs": [
    {
     "data": {
      "text/plain": [
       "61    61\n",
       "62    62\n",
       "60    60\n",
       "44    44\n",
       "Name: Process, dtype: int64"
      ]
     },
     "metadata": {},
     "output_type": "display_data"
    },
    {
     "data": {
      "text/plain": [
       "19    19\n",
       "27    27\n",
       "36    36\n",
       "20    20\n",
       "Name: Process, dtype: int64"
      ]
     },
     "metadata": {},
     "output_type": "display_data"
    },
    {
     "data": {
      "text/html": [
       "<div>\n",
       "<style scoped>\n",
       "    .dataframe tbody tr th:only-of-type {\n",
       "        vertical-align: middle;\n",
       "    }\n",
       "\n",
       "    .dataframe tbody tr th {\n",
       "        vertical-align: top;\n",
       "    }\n",
       "\n",
       "    .dataframe thead th {\n",
       "        text-align: right;\n",
       "    }\n",
       "</style>\n",
       "<table border=\"1\" class=\"dataframe\">\n",
       "  <thead>\n",
       "    <tr style=\"text-align: right;\">\n",
       "      <th></th>\n",
       "      <th>Process</th>\n",
       "      <th>Idle Time</th>\n",
       "    </tr>\n",
       "  </thead>\n",
       "  <tbody>\n",
       "    <tr>\n",
       "      <th>19</th>\n",
       "      <td>19</td>\n",
       "      <td>9482000.0</td>\n",
       "    </tr>\n",
       "    <tr>\n",
       "      <th>27</th>\n",
       "      <td>27</td>\n",
       "      <td>5753000.0</td>\n",
       "    </tr>\n",
       "    <tr>\n",
       "      <th>36</th>\n",
       "      <td>36</td>\n",
       "      <td>5313000.0</td>\n",
       "    </tr>\n",
       "    <tr>\n",
       "      <th>20</th>\n",
       "      <td>20</td>\n",
       "      <td>4200000.0</td>\n",
       "    </tr>\n",
       "  </tbody>\n",
       "</table>\n",
       "</div>"
      ],
      "text/plain": [
       "    Process  Idle Time\n",
       "19       19  9482000.0\n",
       "27       27  5753000.0\n",
       "36       36  5313000.0\n",
       "20       20  4200000.0"
      ]
     },
     "metadata": {},
     "output_type": "display_data"
    },
    {
     "data": {
      "text/html": [
       "<div>\n",
       "<style scoped>\n",
       "    .dataframe tbody tr th:only-of-type {\n",
       "        vertical-align: middle;\n",
       "    }\n",
       "\n",
       "    .dataframe tbody tr th {\n",
       "        vertical-align: top;\n",
       "    }\n",
       "\n",
       "    .dataframe thead th {\n",
       "        text-align: right;\n",
       "    }\n",
       "</style>\n",
       "<table border=\"1\" class=\"dataframe\">\n",
       "  <thead>\n",
       "    <tr style=\"text-align: right;\">\n",
       "      <th></th>\n",
       "      <th>Process</th>\n",
       "      <th>Idle Time</th>\n",
       "    </tr>\n",
       "  </thead>\n",
       "  <tbody>\n",
       "    <tr>\n",
       "      <th>61</th>\n",
       "      <td>61</td>\n",
       "      <td>122545000.0</td>\n",
       "    </tr>\n",
       "    <tr>\n",
       "      <th>62</th>\n",
       "      <td>62</td>\n",
       "      <td>105244000.0</td>\n",
       "    </tr>\n",
       "    <tr>\n",
       "      <th>60</th>\n",
       "      <td>60</td>\n",
       "      <td>105169000.0</td>\n",
       "    </tr>\n",
       "    <tr>\n",
       "      <th>44</th>\n",
       "      <td>44</td>\n",
       "      <td>100791000.0</td>\n",
       "    </tr>\n",
       "  </tbody>\n",
       "</table>\n",
       "</div>"
      ],
      "text/plain": [
       "    Process    Idle Time\n",
       "61       61  122545000.0\n",
       "62       62  105244000.0\n",
       "60       60  105169000.0\n",
       "44       44  100791000.0"
      ]
     },
     "metadata": {},
     "output_type": "display_data"
    }
   ],
   "source": [
    "idle_times = trace_64.idle_time().sort_values(by=['Idle Time', 'Process'],ascending=False)\n",
    "most_idle_procs = idle_times[\"Process\"].head(4)\n",
    "least_idle_procs = idle_times[\"Process\"].tail(4)\n",
    "\n",
    "display(most_idle_procs)\n",
    "display(least_idle_procs)\n",
    "display(idle_times.tail(4))\n",
    "display(idle_times.head(4))"
   ]
  },
  {
   "cell_type": "code",
   "execution_count": 7,
   "id": "ba212241-e114-4f2b-8527-940b1e52821a",
   "metadata": {},
   "outputs": [],
   "source": [
    "z = least_idle_procs.to_list() + most_idle_procs.to_list()"
   ]
  },
  {
   "cell_type": "code",
   "execution_count": 9,
   "id": "0a320800-d5a1-4541-a32d-d1fc92ff12af",
   "metadata": {},
   "outputs": [],
   "source": [
    "trace_64.events = trace_64.events.loc[trace_64.events['Process'].isin(z)]"
   ]
  },
  {
   "cell_type": "code",
   "execution_count": 10,
   "id": "fa38caf6",
   "metadata": {},
   "outputs": [
    {
     "ename": "AttributeError",
     "evalue": "'Trace' object has no attribute 'plot_timeline'",
     "output_type": "error",
     "traceback": [
      "\u001b[0;31m---------------------------------------------------------------------------\u001b[0m",
      "\u001b[0;31mAttributeError\u001b[0m                            Traceback (most recent call last)",
      "Cell \u001b[0;32mIn[10], line 1\u001b[0m\n\u001b[0;32m----> 1\u001b[0m \u001b[43mtrace_64\u001b[49m\u001b[38;5;241;43m.\u001b[39;49m\u001b[43mplot_timeline\u001b[49m()\n",
      "\u001b[0;31mAttributeError\u001b[0m: 'Trace' object has no attribute 'plot_timeline'"
     ]
    }
   ],
   "source": [
    "trace_64.plot_timeline()"
   ]
  },
  {
   "cell_type": "code",
   "execution_count": 26,
   "id": "f64ecea8",
   "metadata": {},
   "outputs": [],
   "source": [
    "df = trace_64.events\n",
    "dff = df.loc[df['Timestamp (ns)'] > 1100000].loc[df['Timestamp (ns)'] < 1150000]\n",
    "most_idle = dff.loc[dff['Process'] == 62]\n",
    "least_idle = dff.loc[dff['Process'] == 21]"
   ]
  },
  {
   "cell_type": "code",
   "execution_count": 27,
   "id": "f0ca2bfb",
   "metadata": {},
   "outputs": [],
   "source": [
    "def print_most_funcs(df):\n",
    "    df = df.groupby(['Name'])['time.exc'].sum().reset_index(name='Time').sort_values(['Time'], ascending=False)\n",
    "    display(df.head())"
   ]
  },
  {
   "cell_type": "code",
   "execution_count": 28,
   "id": "50c6f039",
   "metadata": {},
   "outputs": [
    {
     "data": {
      "text/html": [
       "<div>\n",
       "<style scoped>\n",
       "    .dataframe tbody tr th:only-of-type {\n",
       "        vertical-align: middle;\n",
       "    }\n",
       "\n",
       "    .dataframe tbody tr th {\n",
       "        vertical-align: top;\n",
       "    }\n",
       "\n",
       "    .dataframe thead th {\n",
       "        text-align: right;\n",
       "    }\n",
       "</style>\n",
       "<table border=\"1\" class=\"dataframe\">\n",
       "  <thead>\n",
       "    <tr style=\"text-align: right;\">\n",
       "      <th></th>\n",
       "      <th>Name</th>\n",
       "      <th>Time</th>\n",
       "    </tr>\n",
       "  </thead>\n",
       "  <tbody>\n",
       "    <tr>\n",
       "      <th>0</th>\n",
       "      <td>Idle</td>\n",
       "      <td>31211.0</td>\n",
       "    </tr>\n",
       "    <tr>\n",
       "      <th>7</th>\n",
       "      <td>traceOff()</td>\n",
       "      <td>109.0</td>\n",
       "    </tr>\n",
       "    <tr>\n",
       "      <th>3</th>\n",
       "      <td>ReductionStarting(CkReductionNumberMsg* impl_msg)</td>\n",
       "      <td>9.0</td>\n",
       "    </tr>\n",
       "    <tr>\n",
       "      <th>1</th>\n",
       "      <td>Pack</td>\n",
       "      <td>1.0</td>\n",
       "    </tr>\n",
       "    <tr>\n",
       "      <th>2</th>\n",
       "      <td>RecvMsg(CkReductionMsg* impl_msg)</td>\n",
       "      <td>0.0</td>\n",
       "    </tr>\n",
       "  </tbody>\n",
       "</table>\n",
       "</div>"
      ],
      "text/plain": [
       "                                                Name     Time\n",
       "0                                               Idle  31211.0\n",
       "7                                         traceOff()    109.0\n",
       "3  ReductionStarting(CkReductionNumberMsg* impl_msg)      9.0\n",
       "1                                               Pack      1.0\n",
       "2                  RecvMsg(CkReductionMsg* impl_msg)      0.0"
      ]
     },
     "metadata": {},
     "output_type": "display_data"
    },
    {
     "data": {
      "text/html": [
       "<div>\n",
       "<style scoped>\n",
       "    .dataframe tbody tr th:only-of-type {\n",
       "        vertical-align: middle;\n",
       "    }\n",
       "\n",
       "    .dataframe tbody tr th {\n",
       "        vertical-align: top;\n",
       "    }\n",
       "\n",
       "    .dataframe thead th {\n",
       "        text-align: right;\n",
       "    }\n",
       "</style>\n",
       "<table border=\"1\" class=\"dataframe\">\n",
       "  <thead>\n",
       "    <tr style=\"text-align: right;\">\n",
       "      <th></th>\n",
       "      <th>Name</th>\n",
       "      <th>Time</th>\n",
       "    </tr>\n",
       "  </thead>\n",
       "  <tbody>\n",
       "    <tr>\n",
       "      <th>0</th>\n",
       "      <td>ComputeInteractions()</td>\n",
       "      <td>8392.0</td>\n",
       "    </tr>\n",
       "    <tr>\n",
       "      <th>7</th>\n",
       "      <td>SendVisitMessages()</td>\n",
       "      <td>7766.0</td>\n",
       "    </tr>\n",
       "    <tr>\n",
       "      <th>5</th>\n",
       "      <td>ReceiveVisitMessages(const VisitMessage &amp;impl_noname_1)</td>\n",
       "      <td>1379.0</td>\n",
       "    </tr>\n",
       "    <tr>\n",
       "      <th>3</th>\n",
       "      <td>Pack</td>\n",
       "      <td>620.0</td>\n",
       "    </tr>\n",
       "    <tr>\n",
       "      <th>2</th>\n",
       "      <td>Idle</td>\n",
       "      <td>535.0</td>\n",
       "    </tr>\n",
       "  </tbody>\n",
       "</table>\n",
       "</div>"
      ],
      "text/plain": [
       "                                                      Name    Time\n",
       "0                                    ComputeInteractions()  8392.0\n",
       "7                                      SendVisitMessages()  7766.0\n",
       "5  ReceiveVisitMessages(const VisitMessage &impl_noname_1)  1379.0\n",
       "3                                                     Pack   620.0\n",
       "2                                                     Idle   535.0"
      ]
     },
     "metadata": {},
     "output_type": "display_data"
    }
   ],
   "source": [
    "print_most_funcs(most_idle)\n",
    "print_most_funcs(least_idle)"
   ]
  }
 ],
 "metadata": {
  "kernelspec": {
   "display_name": "Python 3 (ipykernel)",
   "language": "python",
   "name": "python3"
  },
  "language_info": {
   "codemirror_mode": {
    "name": "ipython",
    "version": 3
   },
   "file_extension": ".py",
   "mimetype": "text/x-python",
   "name": "python",
   "nbconvert_exporter": "python",
   "pygments_lexer": "ipython3",
   "version": "3.9.19"
  }
 },
 "nbformat": 4,
 "nbformat_minor": 5
}
