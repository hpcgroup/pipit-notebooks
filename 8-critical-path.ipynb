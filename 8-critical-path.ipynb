{
 "cells": [
  {
   "cell_type": "code",
   "execution_count": null,
   "metadata": {},
   "outputs": [],
   "source": [
    "import pipit\n",
    "\n",
    "import os \n",
    "os.environ[\"BOKEH_ALLOW_WS_ORIGIN\"] = \"127.0.0.1:8888\""
   ]
  },
  {
   "cell_type": "code",
   "execution_count": null,
   "metadata": {},
   "outputs": [],
   "source": [
    "gol_4 = pipit.Trace.from_otf2(\"scorep-np4\")"
   ]
  },
  {
   "cell_type": "code",
   "execution_count": null,
   "metadata": {},
   "outputs": [],
   "source": [
    "critical_paths = gol_4.critical_path_analysis()\n",
    "display(critical_paths[0].head(7))"
   ]
  },
  {
   "cell_type": "code",
   "execution_count": null,
   "metadata": {},
   "outputs": [],
   "source": [
    "gol_4.plot_timeline(show_critical_path=True)"
   ]
  }
 ],
 "metadata": {
  "language_info": {
   "name": "python"
  }
 },
 "nbformat": 4,
 "nbformat_minor": 2
}
